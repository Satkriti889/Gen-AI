{
 "cells": [
  {
   "cell_type": "markdown",
   "id": "cdb2e03c",
   "metadata": {},
   "source": [
    "## Week 1: Foundations of LLMs and Transformers\n",
    "\n",
    "#### Introduction to LLMs and the OpenAI API\n",
    "\n",
    "##### Welcome to the World of Large Language Models (LLMs)\n",
    "\n",
    "\n",
    "1. What is an LLM?\n",
    "At its core, a Large Language Model (LLM) is a sophisticated neural network trained on a massive amount of text data. Think of it as an incredibly powerful \"autocomplete\" system. It learns grammar, facts, reasoning abilities, and different styles of writing by predicting the next word in a sentence, over and over again, on a dataset the size of a large portion of the internet"
   ]
  },
  {
   "cell_type": "markdown",
   "id": "95f9aaae",
   "metadata": {},
   "source": [
    "Definition: A type of artificial intelligence model trained on massive amounts of text data to understand and generate human-like language.\n",
    "\n",
    "Examples: OpenAI’s GPT-4, Google’s Gemini, Meta’s LLaMA.\n",
    "\n",
    "Uses: Chatbots, text summarization, translation, content generation, code assistance, etc.\n",
    "\n",
    "Key Features:\n",
    "\n",
    "Learns patterns in language.\n",
    "\n",
    "Can perform tasks with little or no fine-tuning (zero-shot or few-shot learning).\n",
    "\n",
    "Often built using transformer architecture."
   ]
  },
  {
   "cell_type": "markdown",
   "id": "c6391dda",
   "metadata": {},
   "source": [
    "## The Key Players in LLM Development\n",
    "\n",
    "### 🔷 GPT (Generative Pre-trained Transformer) Series by OpenAI\n",
    "- **Models**: `GPT-3`, `GPT-3.5`, `GPT-4`\n",
    "- **Strengths**:\n",
    "  - Strong reasoning and instruction following\n",
    "  - Creative text generation\n",
    "- **Access**:\n",
    "  - Primarily via a **paid API**\n",
    " \n",
    "---\n",
    "\n",
    "### 🟡 Claude Series by Anthropic\n",
    "- **Models**: `Claude`, `Claude 2`, `Claude 3` *(Haiku, Sonnet, Opus)*\n",
    "- **Strengths**:\n",
    "  - Focus on **AI safety** and *\"Constitutional AI\"*\n",
    "  - Very large **context window** (can process large amounts of text)\n",
    "- **Access**:\n",
    "  - Available through **API**\n",
    "\n",
    "---\n",
    "\n",
    "### 🔶 LLaMA (Large Language Model Meta AI) by Meta\n",
    "- **Models**: `LLaMA`, `LLaMA 2`, `LLaMA 3`\n",
    "- **Strengths**:\n",
    "  - Powerful **open-source** models\n",
    "  - Can be run locally (with sufficient computing resources)\n",
    "- **Impact**:\n",
    "  - Spurred a wave of **community-driven innovation**\n",
    "\n",
    "---\n",
    "\n",
    "📌 *Note: Open-source models like LLaMA are especially important in academic and research settings due to their flexibility and transparency.*\n",
    "\n",
    "----\n",
    "### DeepSeek-V3 Excels (Best Use Cases)\n",
    "* 🔹 Long Document Analysis (Research papers, legal docs)\n",
    "* 🔹 Coding & Debugging (Similar to GPT-4 level)\n",
    "* 🔹 Free Alternative to GPT-4/Claude Pro\n",
    "* 🔹 Web-Augmented Answers (When search is enabled)\n",
    "* 🔹 File Processing (Extracting text/data from PDFs, Excel, etc.)"
   ]
  },
  {
   "cell_type": "code",
   "execution_count": null,
   "id": "252593ab",
   "metadata": {},
   "outputs": [],
   "source": []
  }
 ],
 "metadata": {
  "kernelspec": {
   "display_name": "venv",
   "language": "python",
   "name": "python3"
  },
  "language_info": {
   "codemirror_mode": {
    "name": "ipython",
    "version": 3
   },
   "file_extension": ".py",
   "mimetype": "text/x-python",
   "name": "python",
   "nbconvert_exporter": "python",
   "pygments_lexer": "ipython3",
   "version": "3.12.1"
  }
 },
 "nbformat": 4,
 "nbformat_minor": 5
}
